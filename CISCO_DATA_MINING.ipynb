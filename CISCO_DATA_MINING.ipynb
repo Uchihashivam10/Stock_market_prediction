{
 "cells": [
  {
   "cell_type": "markdown",
   "metadata": {},
   "source": [
    "All the news have been extracted from https://business.financialpost.com/"
   ]
  },
  {
   "cell_type": "code",
   "execution_count": 20,
   "metadata": {
    "ExecuteTime": {
     "end_time": "2020-05-04T21:57:00.262294Z",
     "start_time": "2020-05-04T21:56:57.496416Z"
    }
   },
   "outputs": [],
   "source": [
    "import requests\n",
    "import urllib\n",
    "import sys\n",
    "import numpy  as np\n",
    "import pandas as pd\n",
    "\n",
    "from bs4 import BeautifulSoup"
   ]
  },
  {
   "cell_type": "markdown",
   "metadata": {},
   "source": [
    "# Extract web links according to a signature and the number of pages\n"
   ]
  },
  {
   "cell_type": "code",
   "execution_count": 21,
   "metadata": {
    "ExecuteTime": {
     "end_time": "2020-05-04T21:57:03.073949Z",
     "start_time": "2020-05-04T21:57:03.069585Z"
    }
   },
   "outputs": [],
   "source": [
    "def get_internal_links(ur):\n",
    "    \n",
    "    info  = BeautifulSoup(requests.get(ur,allow_redirects = True).content,'html.parser').find_all(\"div\",{\"class\":\"article-card__details\"})\n",
    "    links  = [ \"https://financialpost.com\" + i.a['href'] for i in info]\n",
    "\n",
    "    return(links)   "
   ]
  },
  {
   "cell_type": "code",
   "execution_count": 22,
   "metadata": {
    "ExecuteTime": {
     "end_time": "2020-05-04T21:57:03.552753Z",
     "start_time": "2020-05-04T21:57:03.547612Z"
    }
   },
   "outputs": [],
   "source": [
    "def extract_link_of_news(k_word,n_of_page):\n",
    "    link= \"https://financialpost.com/search/?search_text=\"+ k_word + \"&date_range=-3650d&sort=score&from=\" + str((n_of_page-1)*10)\n",
    "    news_df                  = pd.DataFrame()    \n",
    "    \n",
    "    news_df[\"internal_urls\"]  = get_internal_links(link)\n",
    "    news_df[\"principal_url\"]  = link    \n",
    "    news_df[\"n_of_page\"]      = n_of_page\n",
    "    return(news_df[[\"n_of_page\",\"principal_url\",\"internal_urls\"]])"
   ]
  },
  {
   "cell_type": "code",
   "execution_count": 23,
   "metadata": {
    "ExecuteTime": {
     "end_time": "2020-05-04T21:57:46.017541Z",
     "start_time": "2020-05-04T21:57:04.521682Z"
    }
   },
   "outputs": [
    {
     "data": {
      "text/html": [
       "<div>\n",
       "<style scoped>\n",
       "    .dataframe tbody tr th:only-of-type {\n",
       "        vertical-align: middle;\n",
       "    }\n",
       "\n",
       "    .dataframe tbody tr th {\n",
       "        vertical-align: top;\n",
       "    }\n",
       "\n",
       "    .dataframe thead th {\n",
       "        text-align: right;\n",
       "    }\n",
       "</style>\n",
       "<table border=\"1\" class=\"dataframe\">\n",
       "  <thead>\n",
       "    <tr style=\"text-align: right;\">\n",
       "      <th></th>\n",
       "      <th>n_of_page</th>\n",
       "      <th>principal_url</th>\n",
       "      <th>internal_urls</th>\n",
       "    </tr>\n",
       "  </thead>\n",
       "  <tbody>\n",
       "    <tr>\n",
       "      <th>0</th>\n",
       "      <td>1</td>\n",
       "      <td>https://financialpost.com/search/?search_text=...</td>\n",
       "      <td>https://financialpost.com/pmn/business-pmn/app...</td>\n",
       "    </tr>\n",
       "    <tr>\n",
       "      <th>1</th>\n",
       "      <td>1</td>\n",
       "      <td>https://financialpost.com/search/?search_text=...</td>\n",
       "      <td>https://financialpost.com/pmn/business-pmn/mov...</td>\n",
       "    </tr>\n",
       "    <tr>\n",
       "      <th>2</th>\n",
       "      <td>1</td>\n",
       "      <td>https://financialpost.com/search/?search_text=...</td>\n",
       "      <td>https://financialpost.com/pmn/business-pmn/app...</td>\n",
       "    </tr>\n",
       "    <tr>\n",
       "      <th>3</th>\n",
       "      <td>1</td>\n",
       "      <td>https://financialpost.com/search/?search_text=...</td>\n",
       "      <td>https://financialpost.com/pmn/business-pmn/fir...</td>\n",
       "    </tr>\n",
       "    <tr>\n",
       "      <th>4</th>\n",
       "      <td>1</td>\n",
       "      <td>https://financialpost.com/search/?search_text=...</td>\n",
       "      <td>https://financialpost.com/pmn/business-pmn/qua...</td>\n",
       "    </tr>\n",
       "    <tr>\n",
       "      <th>...</th>\n",
       "      <td>...</td>\n",
       "      <td>...</td>\n",
       "      <td>...</td>\n",
       "    </tr>\n",
       "    <tr>\n",
       "      <th>1695</th>\n",
       "      <td>170</td>\n",
       "      <td>https://financialpost.com/search/?search_text=...</td>\n",
       "      <td>https://financialpost.com/pmn/business-pmn/cyb...</td>\n",
       "    </tr>\n",
       "    <tr>\n",
       "      <th>1696</th>\n",
       "      <td>170</td>\n",
       "      <td>https://financialpost.com/search/?search_text=...</td>\n",
       "      <td>https://financialpost.com/investing/apple-back...</td>\n",
       "    </tr>\n",
       "    <tr>\n",
       "      <th>1697</th>\n",
       "      <td>170</td>\n",
       "      <td>https://financialpost.com/search/?search_text=...</td>\n",
       "      <td>https://financialpost.com/pmn/business-pmn/app...</td>\n",
       "    </tr>\n",
       "    <tr>\n",
       "      <th>1698</th>\n",
       "      <td>170</td>\n",
       "      <td>https://financialpost.com/search/?search_text=...</td>\n",
       "      <td>https://financialpost.com/technology/personal-...</td>\n",
       "    </tr>\n",
       "    <tr>\n",
       "      <th>1699</th>\n",
       "      <td>170</td>\n",
       "      <td>https://financialpost.com/search/?search_text=...</td>\n",
       "      <td>https://financialpost.com/pmn/business-pmn/nas...</td>\n",
       "    </tr>\n",
       "  </tbody>\n",
       "</table>\n",
       "<p>1700 rows × 3 columns</p>\n",
       "</div>"
      ],
      "text/plain": [
       "      n_of_page                                      principal_url  \\\n",
       "0             1  https://financialpost.com/search/?search_text=...   \n",
       "1             1  https://financialpost.com/search/?search_text=...   \n",
       "2             1  https://financialpost.com/search/?search_text=...   \n",
       "3             1  https://financialpost.com/search/?search_text=...   \n",
       "4             1  https://financialpost.com/search/?search_text=...   \n",
       "...         ...                                                ...   \n",
       "1695        170  https://financialpost.com/search/?search_text=...   \n",
       "1696        170  https://financialpost.com/search/?search_text=...   \n",
       "1697        170  https://financialpost.com/search/?search_text=...   \n",
       "1698        170  https://financialpost.com/search/?search_text=...   \n",
       "1699        170  https://financialpost.com/search/?search_text=...   \n",
       "\n",
       "                                          internal_urls  \n",
       "0     https://financialpost.com/pmn/business-pmn/app...  \n",
       "1     https://financialpost.com/pmn/business-pmn/mov...  \n",
       "2     https://financialpost.com/pmn/business-pmn/app...  \n",
       "3     https://financialpost.com/pmn/business-pmn/fir...  \n",
       "4     https://financialpost.com/pmn/business-pmn/qua...  \n",
       "...                                                 ...  \n",
       "1695  https://financialpost.com/pmn/business-pmn/cyb...  \n",
       "1696  https://financialpost.com/investing/apple-back...  \n",
       "1697  https://financialpost.com/pmn/business-pmn/app...  \n",
       "1698  https://financialpost.com/technology/personal-...  \n",
       "1699  https://financialpost.com/pmn/business-pmn/nas...  \n",
       "\n",
       "[1700 rows x 3 columns]"
      ]
     },
     "execution_count": 23,
     "metadata": {},
     "output_type": "execute_result"
    }
   ],
   "source": [
    "n_of_pages = 170\n",
    "df = pd.concat([extract_link_of_news(\"apple\",i) for i in range(1,n_of_pages+1)],ignore_index = True)\n",
    "df"
   ]
  },
  {
   "cell_type": "code",
   "execution_count": 32,
   "metadata": {},
   "outputs": [
    {
     "data": {
      "text/html": [
       "<div>\n",
       "<style scoped>\n",
       "    .dataframe tbody tr th:only-of-type {\n",
       "        vertical-align: middle;\n",
       "    }\n",
       "\n",
       "    .dataframe tbody tr th {\n",
       "        vertical-align: top;\n",
       "    }\n",
       "\n",
       "    .dataframe thead th {\n",
       "        text-align: right;\n",
       "    }\n",
       "</style>\n",
       "<table border=\"1\" class=\"dataframe\">\n",
       "  <thead>\n",
       "    <tr style=\"text-align: right;\">\n",
       "      <th></th>\n",
       "      <th>n_of_page</th>\n",
       "      <th>principal_url</th>\n",
       "      <th>internal_urls</th>\n",
       "    </tr>\n",
       "  </thead>\n",
       "  <tbody>\n",
       "    <tr>\n",
       "      <th>0</th>\n",
       "      <td>1</td>\n",
       "      <td>https://financialpost.com/search/?search_text=...</td>\n",
       "      <td>https://financialpost.com/pmn/press-releases-p...</td>\n",
       "    </tr>\n",
       "    <tr>\n",
       "      <th>1</th>\n",
       "      <td>1</td>\n",
       "      <td>https://financialpost.com/search/?search_text=...</td>\n",
       "      <td>https://financialpost.com/pmn/press-releases-p...</td>\n",
       "    </tr>\n",
       "    <tr>\n",
       "      <th>2</th>\n",
       "      <td>1</td>\n",
       "      <td>https://financialpost.com/search/?search_text=...</td>\n",
       "      <td>https://financialpost.com/pmn/press-releases-p...</td>\n",
       "    </tr>\n",
       "    <tr>\n",
       "      <th>3</th>\n",
       "      <td>1</td>\n",
       "      <td>https://financialpost.com/search/?search_text=...</td>\n",
       "      <td>https://financialpost.com/pmn/press-releases-p...</td>\n",
       "    </tr>\n",
       "    <tr>\n",
       "      <th>4</th>\n",
       "      <td>1</td>\n",
       "      <td>https://financialpost.com/search/?search_text=...</td>\n",
       "      <td>https://financialpost.com/pmn/press-releases-p...</td>\n",
       "    </tr>\n",
       "    <tr>\n",
       "      <th>...</th>\n",
       "      <td>...</td>\n",
       "      <td>...</td>\n",
       "      <td>...</td>\n",
       "    </tr>\n",
       "    <tr>\n",
       "      <th>1345</th>\n",
       "      <td>135</td>\n",
       "      <td>https://financialpost.com/search/?search_text=...</td>\n",
       "      <td>https://financialpost.com/executive/leadership...</td>\n",
       "    </tr>\n",
       "    <tr>\n",
       "      <th>1346</th>\n",
       "      <td>135</td>\n",
       "      <td>https://financialpost.com/search/?search_text=...</td>\n",
       "      <td>https://financialpost.com/technology/dissectin...</td>\n",
       "    </tr>\n",
       "    <tr>\n",
       "      <th>1347</th>\n",
       "      <td>135</td>\n",
       "      <td>https://financialpost.com/search/?search_text=...</td>\n",
       "      <td>https://financialpost.com/executive/executive-...</td>\n",
       "    </tr>\n",
       "    <tr>\n",
       "      <th>1348</th>\n",
       "      <td>135</td>\n",
       "      <td>https://financialpost.com/search/?search_text=...</td>\n",
       "      <td>https://financialpost.com/news/economy/public-...</td>\n",
       "    </tr>\n",
       "    <tr>\n",
       "      <th>1349</th>\n",
       "      <td>135</td>\n",
       "      <td>https://financialpost.com/search/?search_text=...</td>\n",
       "      <td>https://financialpost.com/technology/will-we-e...</td>\n",
       "    </tr>\n",
       "  </tbody>\n",
       "</table>\n",
       "<p>1350 rows × 3 columns</p>\n",
       "</div>"
      ],
      "text/plain": [
       "      n_of_page                                      principal_url  \\\n",
       "0             1  https://financialpost.com/search/?search_text=...   \n",
       "1             1  https://financialpost.com/search/?search_text=...   \n",
       "2             1  https://financialpost.com/search/?search_text=...   \n",
       "3             1  https://financialpost.com/search/?search_text=...   \n",
       "4             1  https://financialpost.com/search/?search_text=...   \n",
       "...         ...                                                ...   \n",
       "1345        135  https://financialpost.com/search/?search_text=...   \n",
       "1346        135  https://financialpost.com/search/?search_text=...   \n",
       "1347        135  https://financialpost.com/search/?search_text=...   \n",
       "1348        135  https://financialpost.com/search/?search_text=...   \n",
       "1349        135  https://financialpost.com/search/?search_text=...   \n",
       "\n",
       "                                          internal_urls  \n",
       "0     https://financialpost.com/pmn/press-releases-p...  \n",
       "1     https://financialpost.com/pmn/press-releases-p...  \n",
       "2     https://financialpost.com/pmn/press-releases-p...  \n",
       "3     https://financialpost.com/pmn/press-releases-p...  \n",
       "4     https://financialpost.com/pmn/press-releases-p...  \n",
       "...                                                 ...  \n",
       "1345  https://financialpost.com/executive/leadership...  \n",
       "1346  https://financialpost.com/technology/dissectin...  \n",
       "1347  https://financialpost.com/executive/executive-...  \n",
       "1348  https://financialpost.com/news/economy/public-...  \n",
       "1349  https://financialpost.com/technology/will-we-e...  \n",
       "\n",
       "[1350 rows x 3 columns]"
      ]
     },
     "execution_count": 32,
     "metadata": {},
     "output_type": "execute_result"
    }
   ],
   "source": [
    "n_of_pages = 135\n",
    "df_cisco = pd.concat([extract_link_of_news(\"cisco\",i) for i in range(1,n_of_pages+1)],ignore_index = True)\n",
    "df_cisco"
   ]
  },
  {
   "cell_type": "markdown",
   "metadata": {},
   "source": [
    "# Extract the date and text from each link "
   ]
  },
  {
   "cell_type": "code",
   "execution_count": 33,
   "metadata": {},
   "outputs": [],
   "source": [
    "def extract_date_and_text(ur):\n",
    "    url = ur\n",
    "    \n",
    "    try:\n",
    "        soup         = BeautifulSoup(requests.get(url).content, 'html.parser')\n",
    "        g = 0\n",
    "    \n",
    "    except:   \n",
    "        the_type, the_value, the_traceback = sys.exc_info()\n",
    "        g = 1\n",
    "    \n",
    "\n",
    "    if(g==0):\n",
    "        flag= True\n",
    "        if(soup.find(\"section\",class_ = \"article-content__content-group\")):\n",
    "            text_of_news = soup.find(\"section\",class_ = \"article-content__content-group\").find_all(\"p\")\n",
    "            flag=False\n",
    "        else:\n",
    "            text_of_news = \"NO TEXT\"\n",
    "\n",
    "        \n",
    "        if(flag):\n",
    "            final_date = \"\"\n",
    "            final_text =\"\"\n",
    "        else:\n",
    "            final_date= soup.find(\"span\",class_=\"published-date__since\").text\n",
    "            get_text_vec = [i.text for i in text_of_news]\n",
    "            final_text = \"\".join(get_text_vec)\n",
    "        #final_date   = soup.find(\"span\",class_=\"published-date__since\").text[\"datetime\"]\n",
    "        \n",
    "        \n",
    "    else: final_date = \"\";final_text = \"\"\n",
    "    \n",
    "    return(final_date,final_text)"
   ]
  },
  {
   "cell_type": "code",
   "execution_count": 34,
   "metadata": {
    "ExecuteTime": {
     "end_time": "2020-05-04T21:59:10.830147Z",
     "start_time": "2020-05-04T21:58:54.803003Z"
    }
   },
   "outputs": [
    {
     "data": {
      "text/html": [
       "<div>\n",
       "<style scoped>\n",
       "    .dataframe tbody tr th:only-of-type {\n",
       "        vertical-align: middle;\n",
       "    }\n",
       "\n",
       "    .dataframe tbody tr th {\n",
       "        vertical-align: top;\n",
       "    }\n",
       "\n",
       "    .dataframe thead th {\n",
       "        text-align: right;\n",
       "    }\n",
       "</style>\n",
       "<table border=\"1\" class=\"dataframe\">\n",
       "  <thead>\n",
       "    <tr style=\"text-align: right;\">\n",
       "      <th></th>\n",
       "      <th>n_of_page</th>\n",
       "      <th>principal_url</th>\n",
       "      <th>internal_urls</th>\n",
       "      <th>internals_dates</th>\n",
       "      <th>internals_text</th>\n",
       "    </tr>\n",
       "  </thead>\n",
       "  <tbody>\n",
       "    <tr>\n",
       "      <th>0</th>\n",
       "      <td>1</td>\n",
       "      <td>https://financialpost.com/search/?search_text=...</td>\n",
       "      <td>https://financialpost.com/pmn/press-releases-p...</td>\n",
       "      <td>Nov 10, 2021</td>\n",
       "      <td>TORONTO — Softchoice (TSX: SFTC) today announc...</td>\n",
       "    </tr>\n",
       "    <tr>\n",
       "      <th>1</th>\n",
       "      <td>1</td>\n",
       "      <td>https://financialpost.com/search/?search_text=...</td>\n",
       "      <td>https://financialpost.com/pmn/press-releases-p...</td>\n",
       "      <td>Nov 02, 2020</td>\n",
       "      <td>TORONTO — Softchoice , a leading North America...</td>\n",
       "    </tr>\n",
       "    <tr>\n",
       "      <th>2</th>\n",
       "      <td>1</td>\n",
       "      <td>https://financialpost.com/search/?search_text=...</td>\n",
       "      <td>https://financialpost.com/pmn/press-releases-p...</td>\n",
       "      <td>Nov 04, 2021</td>\n",
       "      <td>FRANKLIN, Tenn. — Elevēo  announces the integr...</td>\n",
       "    </tr>\n",
       "    <tr>\n",
       "      <th>3</th>\n",
       "      <td>1</td>\n",
       "      <td>https://financialpost.com/search/?search_text=...</td>\n",
       "      <td>https://financialpost.com/pmn/press-releases-p...</td>\n",
       "      <td>Nov 20, 2019</td>\n",
       "      <td>Saving time, energy and money, Ingram Micro’s ...</td>\n",
       "    </tr>\n",
       "    <tr>\n",
       "      <th>4</th>\n",
       "      <td>1</td>\n",
       "      <td>https://financialpost.com/search/?search_text=...</td>\n",
       "      <td>https://financialpost.com/pmn/press-releases-p...</td>\n",
       "      <td>Apr 14, 2021</td>\n",
       "      <td>News Summary:SAN FRANCISCO — Cisco AppDynamics...</td>\n",
       "    </tr>\n",
       "    <tr>\n",
       "      <th>5</th>\n",
       "      <td>1</td>\n",
       "      <td>https://financialpost.com/search/?search_text=...</td>\n",
       "      <td>https://financialpost.com/pmn/press-releases-p...</td>\n",
       "      <td>Feb 25, 2021</td>\n",
       "      <td>Business Unit will leverage Cisco technologies...</td>\n",
       "    </tr>\n",
       "    <tr>\n",
       "      <th>6</th>\n",
       "      <td>1</td>\n",
       "      <td>https://financialpost.com/search/?search_text=...</td>\n",
       "      <td>https://financialpost.com/technology/tech-news...</td>\n",
       "      <td>Jun 18, 2020</td>\n",
       "      <td>For the first time in 30 years, Cisco Live was...</td>\n",
       "    </tr>\n",
       "    <tr>\n",
       "      <th>7</th>\n",
       "      <td>1</td>\n",
       "      <td>https://financialpost.com/search/?search_text=...</td>\n",
       "      <td>https://financialpost.com/technology/tech-news...</td>\n",
       "      <td>Apr 01, 2021</td>\n",
       "      <td>Cisco Canada’s new president, Shannon Leininge...</td>\n",
       "    </tr>\n",
       "    <tr>\n",
       "      <th>8</th>\n",
       "      <td>1</td>\n",
       "      <td>https://financialpost.com/search/?search_text=...</td>\n",
       "      <td>https://financialpost.com/pmn/press-releases-p...</td>\n",
       "      <td>May 12, 2021</td>\n",
       "      <td>DENVER — Berkana Resources Corporation, a lead...</td>\n",
       "    </tr>\n",
       "    <tr>\n",
       "      <th>9</th>\n",
       "      <td>1</td>\n",
       "      <td>https://financialpost.com/search/?search_text=...</td>\n",
       "      <td>https://financialpost.com/pmn/press-releases-p...</td>\n",
       "      <td>Jun 16, 2020</td>\n",
       "      <td>NS1 + Cisco deliver comprehensive traffic man...</td>\n",
       "    </tr>\n",
       "  </tbody>\n",
       "</table>\n",
       "</div>"
      ],
      "text/plain": [
       "   n_of_page                                      principal_url  \\\n",
       "0          1  https://financialpost.com/search/?search_text=...   \n",
       "1          1  https://financialpost.com/search/?search_text=...   \n",
       "2          1  https://financialpost.com/search/?search_text=...   \n",
       "3          1  https://financialpost.com/search/?search_text=...   \n",
       "4          1  https://financialpost.com/search/?search_text=...   \n",
       "5          1  https://financialpost.com/search/?search_text=...   \n",
       "6          1  https://financialpost.com/search/?search_text=...   \n",
       "7          1  https://financialpost.com/search/?search_text=...   \n",
       "8          1  https://financialpost.com/search/?search_text=...   \n",
       "9          1  https://financialpost.com/search/?search_text=...   \n",
       "\n",
       "                                       internal_urls internals_dates  \\\n",
       "0  https://financialpost.com/pmn/press-releases-p...    Nov 10, 2021   \n",
       "1  https://financialpost.com/pmn/press-releases-p...    Nov 02, 2020   \n",
       "2  https://financialpost.com/pmn/press-releases-p...    Nov 04, 2021   \n",
       "3  https://financialpost.com/pmn/press-releases-p...    Nov 20, 2019   \n",
       "4  https://financialpost.com/pmn/press-releases-p...    Apr 14, 2021   \n",
       "5  https://financialpost.com/pmn/press-releases-p...    Feb 25, 2021   \n",
       "6  https://financialpost.com/technology/tech-news...    Jun 18, 2020   \n",
       "7  https://financialpost.com/technology/tech-news...    Apr 01, 2021   \n",
       "8  https://financialpost.com/pmn/press-releases-p...    May 12, 2021   \n",
       "9  https://financialpost.com/pmn/press-releases-p...    Jun 16, 2020   \n",
       "\n",
       "                                      internals_text  \n",
       "0  TORONTO — Softchoice (TSX: SFTC) today announc...  \n",
       "1  TORONTO — Softchoice , a leading North America...  \n",
       "2  FRANKLIN, Tenn. — Elevēo  announces the integr...  \n",
       "3  Saving time, energy and money, Ingram Micro’s ...  \n",
       "4  News Summary:SAN FRANCISCO — Cisco AppDynamics...  \n",
       "5  Business Unit will leverage Cisco technologies...  \n",
       "6  For the first time in 30 years, Cisco Live was...  \n",
       "7  Cisco Canada’s new president, Shannon Leininge...  \n",
       "8  DENVER — Berkana Resources Corporation, a lead...  \n",
       "9   NS1 + Cisco deliver comprehensive traffic man...  "
      ]
     },
     "execution_count": 34,
     "metadata": {},
     "output_type": "execute_result"
    }
   ],
   "source": [
    "a = np.vectorize(extract_date_and_text)\n",
    "test = df_cisco[0:10].copy()\n",
    "test[\"internals_dates\"],test[\"internals_text\"] = a(test[\"internal_urls\"][0:10])\n",
    "test"
   ]
  },
  {
   "cell_type": "code",
   "execution_count": 35,
   "metadata": {
    "ExecuteTime": {
     "end_time": "2020-05-04T22:05:02.841767Z",
     "start_time": "2020-05-04T21:59:31.865209Z"
    }
   },
   "outputs": [],
   "source": [
    "a = np.vectorize(extract_date_and_text)\n",
    "df_cisco[\"internals_dates\"],df_cisco[\"internals_text\"] = a(df_cisco[\"internal_urls\"])"
   ]
  },
  {
   "cell_type": "code",
   "execution_count": 36,
   "metadata": {},
   "outputs": [
    {
     "data": {
      "text/html": [
       "<div>\n",
       "<style scoped>\n",
       "    .dataframe tbody tr th:only-of-type {\n",
       "        vertical-align: middle;\n",
       "    }\n",
       "\n",
       "    .dataframe tbody tr th {\n",
       "        vertical-align: top;\n",
       "    }\n",
       "\n",
       "    .dataframe thead th {\n",
       "        text-align: right;\n",
       "    }\n",
       "</style>\n",
       "<table border=\"1\" class=\"dataframe\">\n",
       "  <thead>\n",
       "    <tr style=\"text-align: right;\">\n",
       "      <th></th>\n",
       "      <th>n_of_page</th>\n",
       "      <th>principal_url</th>\n",
       "      <th>internal_urls</th>\n",
       "      <th>internals_dates</th>\n",
       "      <th>internals_text</th>\n",
       "    </tr>\n",
       "  </thead>\n",
       "  <tbody>\n",
       "    <tr>\n",
       "      <th>0</th>\n",
       "      <td>1</td>\n",
       "      <td>https://financialpost.com/search/?search_text=...</td>\n",
       "      <td>https://financialpost.com/pmn/press-releases-p...</td>\n",
       "      <td>Nov 10, 2021</td>\n",
       "      <td>TORONTO — Softchoice (TSX: SFTC) today announc...</td>\n",
       "    </tr>\n",
       "    <tr>\n",
       "      <th>1</th>\n",
       "      <td>1</td>\n",
       "      <td>https://financialpost.com/search/?search_text=...</td>\n",
       "      <td>https://financialpost.com/pmn/press-releases-p...</td>\n",
       "      <td>Nov 02, 2020</td>\n",
       "      <td>TORONTO — Softchoice , a leading North America...</td>\n",
       "    </tr>\n",
       "    <tr>\n",
       "      <th>2</th>\n",
       "      <td>1</td>\n",
       "      <td>https://financialpost.com/search/?search_text=...</td>\n",
       "      <td>https://financialpost.com/pmn/press-releases-p...</td>\n",
       "      <td>Nov 04, 2021</td>\n",
       "      <td>FRANKLIN, Tenn. — Elevēo  announces the integr...</td>\n",
       "    </tr>\n",
       "    <tr>\n",
       "      <th>3</th>\n",
       "      <td>1</td>\n",
       "      <td>https://financialpost.com/search/?search_text=...</td>\n",
       "      <td>https://financialpost.com/pmn/press-releases-p...</td>\n",
       "      <td>Nov 20, 2019</td>\n",
       "      <td>Saving time, energy and money, Ingram Micro’s ...</td>\n",
       "    </tr>\n",
       "    <tr>\n",
       "      <th>4</th>\n",
       "      <td>1</td>\n",
       "      <td>https://financialpost.com/search/?search_text=...</td>\n",
       "      <td>https://financialpost.com/pmn/press-releases-p...</td>\n",
       "      <td>Apr 14, 2021</td>\n",
       "      <td>News Summary:SAN FRANCISCO — Cisco AppDynamics...</td>\n",
       "    </tr>\n",
       "    <tr>\n",
       "      <th>...</th>\n",
       "      <td>...</td>\n",
       "      <td>...</td>\n",
       "      <td>...</td>\n",
       "      <td>...</td>\n",
       "      <td>...</td>\n",
       "    </tr>\n",
       "    <tr>\n",
       "      <th>1345</th>\n",
       "      <td>135</td>\n",
       "      <td>https://financialpost.com/search/?search_text=...</td>\n",
       "      <td>https://financialpost.com/executive/leadership...</td>\n",
       "      <td>Mar 17, 2014</td>\n",
       "      <td>OTTAWA — In the five years since Nortel went b...</td>\n",
       "    </tr>\n",
       "    <tr>\n",
       "      <th>1346</th>\n",
       "      <td>135</td>\n",
       "      <td>https://financialpost.com/search/?search_text=...</td>\n",
       "      <td>https://financialpost.com/technology/dissectin...</td>\n",
       "      <td>Jun 06, 2017</td>\n",
       "      <td>SAN FRANCISCO — When a withered Yahoo is absor...</td>\n",
       "    </tr>\n",
       "    <tr>\n",
       "      <th>1347</th>\n",
       "      <td>135</td>\n",
       "      <td>https://financialpost.com/search/?search_text=...</td>\n",
       "      <td>https://financialpost.com/executive/executive-...</td>\n",
       "      <td>Nov 12, 2020</td>\n",
       "      <td>Good Morning!Seven months into the pandemic an...</td>\n",
       "    </tr>\n",
       "    <tr>\n",
       "      <th>1348</th>\n",
       "      <td>135</td>\n",
       "      <td>https://financialpost.com/search/?search_text=...</td>\n",
       "      <td>https://financialpost.com/news/economy/public-...</td>\n",
       "      <td>May 01, 2012</td>\n",
       "      <td>Police officers and firefighters in San Jose, ...</td>\n",
       "    </tr>\n",
       "    <tr>\n",
       "      <th>1349</th>\n",
       "      <td>135</td>\n",
       "      <td>https://financialpost.com/search/?search_text=...</td>\n",
       "      <td>https://financialpost.com/technology/will-we-e...</td>\n",
       "      <td>Sep 11, 2015</td>\n",
       "      <td>TORONTO • A stack of iPads greets hungry diner...</td>\n",
       "    </tr>\n",
       "  </tbody>\n",
       "</table>\n",
       "<p>1350 rows × 5 columns</p>\n",
       "</div>"
      ],
      "text/plain": [
       "      n_of_page                                      principal_url  \\\n",
       "0             1  https://financialpost.com/search/?search_text=...   \n",
       "1             1  https://financialpost.com/search/?search_text=...   \n",
       "2             1  https://financialpost.com/search/?search_text=...   \n",
       "3             1  https://financialpost.com/search/?search_text=...   \n",
       "4             1  https://financialpost.com/search/?search_text=...   \n",
       "...         ...                                                ...   \n",
       "1345        135  https://financialpost.com/search/?search_text=...   \n",
       "1346        135  https://financialpost.com/search/?search_text=...   \n",
       "1347        135  https://financialpost.com/search/?search_text=...   \n",
       "1348        135  https://financialpost.com/search/?search_text=...   \n",
       "1349        135  https://financialpost.com/search/?search_text=...   \n",
       "\n",
       "                                          internal_urls internals_dates  \\\n",
       "0     https://financialpost.com/pmn/press-releases-p...    Nov 10, 2021   \n",
       "1     https://financialpost.com/pmn/press-releases-p...    Nov 02, 2020   \n",
       "2     https://financialpost.com/pmn/press-releases-p...    Nov 04, 2021   \n",
       "3     https://financialpost.com/pmn/press-releases-p...    Nov 20, 2019   \n",
       "4     https://financialpost.com/pmn/press-releases-p...    Apr 14, 2021   \n",
       "...                                                 ...             ...   \n",
       "1345  https://financialpost.com/executive/leadership...    Mar 17, 2014   \n",
       "1346  https://financialpost.com/technology/dissectin...    Jun 06, 2017   \n",
       "1347  https://financialpost.com/executive/executive-...    Nov 12, 2020   \n",
       "1348  https://financialpost.com/news/economy/public-...    May 01, 2012   \n",
       "1349  https://financialpost.com/technology/will-we-e...    Sep 11, 2015   \n",
       "\n",
       "                                         internals_text  \n",
       "0     TORONTO — Softchoice (TSX: SFTC) today announc...  \n",
       "1     TORONTO — Softchoice , a leading North America...  \n",
       "2     FRANKLIN, Tenn. — Elevēo  announces the integr...  \n",
       "3     Saving time, energy and money, Ingram Micro’s ...  \n",
       "4     News Summary:SAN FRANCISCO — Cisco AppDynamics...  \n",
       "...                                                 ...  \n",
       "1345  OTTAWA — In the five years since Nortel went b...  \n",
       "1346  SAN FRANCISCO — When a withered Yahoo is absor...  \n",
       "1347  Good Morning!Seven months into the pandemic an...  \n",
       "1348  Police officers and firefighters in San Jose, ...  \n",
       "1349  TORONTO • A stack of iPads greets hungry diner...  \n",
       "\n",
       "[1350 rows x 5 columns]"
      ]
     },
     "execution_count": 36,
     "metadata": {},
     "output_type": "execute_result"
    }
   ],
   "source": [
    "df_cisco"
   ]
  },
  {
   "cell_type": "code",
   "execution_count": 37,
   "metadata": {},
   "outputs": [
    {
     "data": {
      "text/html": [
       "<div>\n",
       "<style scoped>\n",
       "    .dataframe tbody tr th:only-of-type {\n",
       "        vertical-align: middle;\n",
       "    }\n",
       "\n",
       "    .dataframe tbody tr th {\n",
       "        vertical-align: top;\n",
       "    }\n",
       "\n",
       "    .dataframe thead th {\n",
       "        text-align: right;\n",
       "    }\n",
       "</style>\n",
       "<table border=\"1\" class=\"dataframe\">\n",
       "  <thead>\n",
       "    <tr style=\"text-align: right;\">\n",
       "      <th></th>\n",
       "      <th>n_of_page</th>\n",
       "      <th>principal_url</th>\n",
       "      <th>internal_urls</th>\n",
       "      <th>internals_dates</th>\n",
       "      <th>internals_text</th>\n",
       "    </tr>\n",
       "  </thead>\n",
       "  <tbody>\n",
       "  </tbody>\n",
       "</table>\n",
       "</div>"
      ],
      "text/plain": [
       "Empty DataFrame\n",
       "Columns: [n_of_page, principal_url, internal_urls, internals_dates, internals_text]\n",
       "Index: []"
      ]
     },
     "execution_count": 37,
     "metadata": {},
     "output_type": "execute_result"
    }
   ],
   "source": [
    "df_cisco.loc[df_cisco[\"internals_text\"] == \"NO TEXT\"]"
   ]
  },
  {
   "cell_type": "code",
   "execution_count": 39,
   "metadata": {},
   "outputs": [
    {
     "data": {
      "text/plain": [
       "7"
      ]
     },
     "execution_count": 39,
     "metadata": {},
     "output_type": "execute_result"
    }
   ],
   "source": [
    "len(df_cisco.loc[df_cisco[\"internals_text\"] == \"\"])"
   ]
  },
  {
   "cell_type": "code",
   "execution_count": 41,
   "metadata": {},
   "outputs": [
    {
     "data": {
      "text/html": [
       "<div>\n",
       "<style scoped>\n",
       "    .dataframe tbody tr th:only-of-type {\n",
       "        vertical-align: middle;\n",
       "    }\n",
       "\n",
       "    .dataframe tbody tr th {\n",
       "        vertical-align: top;\n",
       "    }\n",
       "\n",
       "    .dataframe thead th {\n",
       "        text-align: right;\n",
       "    }\n",
       "</style>\n",
       "<table border=\"1\" class=\"dataframe\">\n",
       "  <thead>\n",
       "    <tr style=\"text-align: right;\">\n",
       "      <th></th>\n",
       "      <th>n_of_page</th>\n",
       "      <th>principal_url</th>\n",
       "      <th>internal_urls</th>\n",
       "      <th>internals_dates</th>\n",
       "      <th>internals_text</th>\n",
       "    </tr>\n",
       "  </thead>\n",
       "  <tbody>\n",
       "    <tr>\n",
       "      <th>335</th>\n",
       "      <td>34</td>\n",
       "      <td>https://financialpost.com/search/?search_text=...</td>\n",
       "      <td>https://financialpost.com/pmn/press-releases-p...</td>\n",
       "      <td>Oct 15, 2020</td>\n",
       "      <td></td>\n",
       "    </tr>\n",
       "    <tr>\n",
       "      <th>392</th>\n",
       "      <td>40</td>\n",
       "      <td>https://financialpost.com/search/?search_text=...</td>\n",
       "      <td>https://financialpost.com/business-trends/why-...</td>\n",
       "      <td>Aug 26, 2020</td>\n",
       "      <td></td>\n",
       "    </tr>\n",
       "    <tr>\n",
       "      <th>546</th>\n",
       "      <td>55</td>\n",
       "      <td>https://financialpost.com/search/?search_text=...</td>\n",
       "      <td>https://financialpost.comhttps://nationalpost....</td>\n",
       "      <td></td>\n",
       "      <td></td>\n",
       "    </tr>\n",
       "    <tr>\n",
       "      <th>632</th>\n",
       "      <td>64</td>\n",
       "      <td>https://financialpost.com/search/?search_text=...</td>\n",
       "      <td>https://financialpost.com/technology/tech-news...</td>\n",
       "      <td>Aug 06, 2019</td>\n",
       "      <td></td>\n",
       "    </tr>\n",
       "    <tr>\n",
       "      <th>635</th>\n",
       "      <td>64</td>\n",
       "      <td>https://financialpost.com/search/?search_text=...</td>\n",
       "      <td>https://financialpost.com/technology/tech-news...</td>\n",
       "      <td>Jul 30, 2019</td>\n",
       "      <td></td>\n",
       "    </tr>\n",
       "    <tr>\n",
       "      <th>672</th>\n",
       "      <td>68</td>\n",
       "      <td>https://financialpost.com/search/?search_text=...</td>\n",
       "      <td>https://financialpost.com/pmn/press-releases-p...</td>\n",
       "      <td>Aug 12, 2020</td>\n",
       "      <td></td>\n",
       "    </tr>\n",
       "    <tr>\n",
       "      <th>726</th>\n",
       "      <td>73</td>\n",
       "      <td>https://financialpost.com/search/?search_text=...</td>\n",
       "      <td>https://financialpost.com/technology/tech-news...</td>\n",
       "      <td>May 27, 2020</td>\n",
       "      <td></td>\n",
       "    </tr>\n",
       "  </tbody>\n",
       "</table>\n",
       "</div>"
      ],
      "text/plain": [
       "     n_of_page                                      principal_url  \\\n",
       "335         34  https://financialpost.com/search/?search_text=...   \n",
       "392         40  https://financialpost.com/search/?search_text=...   \n",
       "546         55  https://financialpost.com/search/?search_text=...   \n",
       "632         64  https://financialpost.com/search/?search_text=...   \n",
       "635         64  https://financialpost.com/search/?search_text=...   \n",
       "672         68  https://financialpost.com/search/?search_text=...   \n",
       "726         73  https://financialpost.com/search/?search_text=...   \n",
       "\n",
       "                                         internal_urls internals_dates  \\\n",
       "335  https://financialpost.com/pmn/press-releases-p...    Oct 15, 2020   \n",
       "392  https://financialpost.com/business-trends/why-...    Aug 26, 2020   \n",
       "546  https://financialpost.comhttps://nationalpost....                   \n",
       "632  https://financialpost.com/technology/tech-news...    Aug 06, 2019   \n",
       "635  https://financialpost.com/technology/tech-news...    Jul 30, 2019   \n",
       "672  https://financialpost.com/pmn/press-releases-p...    Aug 12, 2020   \n",
       "726  https://financialpost.com/technology/tech-news...    May 27, 2020   \n",
       "\n",
       "    internals_text  \n",
       "335                 \n",
       "392                 \n",
       "546                 \n",
       "632                 \n",
       "635                 \n",
       "672                 \n",
       "726                 "
      ]
     },
     "execution_count": 41,
     "metadata": {},
     "output_type": "execute_result"
    }
   ],
   "source": [
    "df_cisco.loc[df_cisco[\"internals_text\"] == \"\"]"
   ]
  },
  {
   "cell_type": "code",
   "execution_count": 1,
   "metadata": {},
   "outputs": [
    {
     "ename": "NameError",
     "evalue": "name 'df_cisco' is not defined",
     "output_type": "error",
     "traceback": [
      "\u001b[1;31m---------------------------------------------------------------------------\u001b[0m",
      "\u001b[1;31mNameError\u001b[0m                                 Traceback (most recent call last)",
      "\u001b[1;32m<ipython-input-1-0b6a9d61dc99>\u001b[0m in \u001b[0;36m<module>\u001b[1;34m\u001b[0m\n\u001b[1;32m----> 1\u001b[1;33m \u001b[0mdf_cisco\u001b[0m\u001b[1;33m.\u001b[0m\u001b[0mto_pickle\u001b[0m\u001b[1;33m(\u001b[0m\u001b[1;34m\"data sets/custom_cisco.pkl\"\u001b[0m\u001b[1;33m)\u001b[0m\u001b[1;33m\u001b[0m\u001b[1;33m\u001b[0m\u001b[0m\n\u001b[0m",
      "\u001b[1;31mNameError\u001b[0m: name 'df_cisco' is not defined"
     ]
    }
   ],
   "source": [
    "df_cisco.to_pickle(\"data sets/custom_cisco.pkl\")"
   ]
  },
  {
   "cell_type": "code",
   "execution_count": null,
   "metadata": {},
   "outputs": [],
   "source": [
    "u=df['internal_urls'][131]\n",
    "u"
   ]
  },
  {
   "cell_type": "code",
   "execution_count": 16,
   "metadata": {},
   "outputs": [
    {
     "data": {
      "text/plain": [
       "('Apr 06, 2021', '')"
      ]
     },
     "execution_count": 16,
     "metadata": {},
     "output_type": "execute_result"
    }
   ],
   "source": [
    "extract_date_and_text(u)"
   ]
  },
  {
   "cell_type": "code",
   "execution_count": 17,
   "metadata": {},
   "outputs": [],
   "source": [
    "s = BeautifulSoup(requests.get(u).content, 'html.parser')"
   ]
  },
  {
   "cell_type": "code",
   "execution_count": 18,
   "metadata": {},
   "outputs": [],
   "source": [
    "text=s.find_all(\"section\",class_ = \"article-content__content-group\")"
   ]
  },
  {
   "cell_type": "code",
   "execution_count": 19,
   "metadata": {},
   "outputs": [],
   "source": [
    "res=[i.find_all(\"p\") for i in text]"
   ]
  },
  {
   "cell_type": "code",
   "execution_count": 20,
   "metadata": {},
   "outputs": [
    {
     "data": {
      "text/plain": [
       "[[],\n",
       " [<p>RESEARCH TRIANGLE PARK, N.C. — Today, Lenovo (HKSE: 992) (ADR: LNVGY) Infrastructure Solutions Group (ISG) announces the next-generation Lenovo ThinkSystem servers showcasing a unique balance of performance, security and efficiency – all built on 3rd Gen Intel Xeon Scalable processors and PCIe Gen4. As companies of all sizes continue to work on solving real-world challenges – they require powerful infrastructure solutions to help them gain faster insights and remain competitive. With this new generation of ThinkSystem solutions, Lenovo introduces innovations for real-world workloads including high performance computing (HPC), artificial intelligence (AI), modeling and simulation, cloud, virtual desktop infrastructure (VDI) and advanced analytics. </p>,\n",
       "  <p> “Our next-generation ThinkSystem Server platform delivers a unique balance of performance, security, and efficiency,” said Kamran Amini, Vice President and General Manager of Infrastructure Solutions Platforms, Lenovo Infrastructure Solutions Group. “With the combination of Lenovo innovation in security, water-cooling technology and as-a-service economics, we enable customers to accelerate and secure a broad range of real-world workloads with 3rd Gen Intel Xeon Scalable processors.” </p>,\n",
       "  <p><b>Lenovo puts the ‘smarter’ into infrastructure solutions for data-intensive workloads </b></p>,\n",
       "  <p> Lenovo introduces four new servers, including ThinkSystem SR650 V2, SR630 V2, ST650 V2 and SN550 V2, offering enhanced performance, reliability, flexibility and security to meet mission-critical demands and customer concerns. Leveraging Intel’s 3rd Gen Intel Xeon Scalable processors, this portfolio provides flexibility for the most demanding workloads and the freedom to configure to meet growing business demands: </p>],\n",
       " [<p><b>Packing Petaflops of Performance on Two Data Center Floor Tiles </b></p>,\n",
       "  <p> Lenovo delivers on the promise of “From Exascale to Everyscale™” with four new performance optimized servers that provide massive computing power in minimal floor space with reduced energy consumption: Lenovo ThinkSystem SD650 V2, SD650-N V2, SD630 V2 and SR670 V2. This new generation of ThinkSystem servers are designed to fully exploit PCIe Gen4 which doubles I/O bandwidth <sup>1</sup> for network cards, NVMe devices and GPU/accelerators providing balanced system performance between the CPU and the I/O. Each system leverages Lenovo Neptune™ cooling to drive greater performance and energy efficiency. Lenovo offers a breadth of air and liquid cooling technologies to meet any customer deployment needs: </p>,\n",
       "  <p> Lenovo continues to partner with Intel to bring performance optimized systems to customers around the world, helping solve humanity’s greatest challenges. One example is the Karlsruhe Institute of Technology (KIT) in Germany, a world-renowned research computing center. Lenovo and Intel delivered new systems to KIT for a new cluster, improving performance 17 times compared to their previous system. </p>],\n",
       " [<p> “KIT is excited that our new Lenovo supercomputer will be among the first in the world to run on the new 3rd Gen Intel Xeon Scalable processors. The liquid-cooled Lenovo Neptune system delivers the highest performance, while also being the most energy efficient, making it the clear choice,” said Jennifer Buchmueller Head of Department, Scientific Computing and Simulation at Karlsruhe Institute of Technology (KIT). </p>,\n",
       "  <p><b>Comprehensive Approach to Security </b></p>,\n",
       "  <p data-async=\"\"> Lenovo’s ThinkSystem and ThinkAgile portfolio includes enterprise-class security features, leveraging Lenovo ThinkShield standards. <b> <a data-evt=\"click\" data-evt-typ=\"User Interaction Click\" data-evt-val='{\"control_fields\": {\"mparticle\": {\"keys\": {\"Click Source Type\": \"Click Source Type\", \"Click Source Name\": \"Click Source Name\", \"Click Target URL\": \"Click Target URL\"}, \"mp_event_type\": \"Navigation\", \"extra_keys\": [\"Click Source Vertical Position %\", \"Click Source Vertical Position Pixels\"]}}, \"Click Source Type\": \"in-page link\", \"Click Source Name\": \"Lenovo ThinkShield\", \"Click Target URL\": \"https://cts.businesswire.com/ct/CT?id=smartlink&amp;url=https%3A%2F%2Ftechtoday.lenovo.com%2Fus%2Fen%2Fsolutions%2Flarge-enterprise%2Fthinkshield&amp;esheet=52406932&amp;newsitemid=20210406005311&amp;lan=en-US&amp;anchor=Lenovo+ThinkShield&amp;index=2&amp;md5=4fa9df5deaae2efcdc88fa8a12f6a800\"}' href=\"https://cts.businesswire.com/ct/CT?id=smartlink&amp;url=https%3A%2F%2Ftechtoday.lenovo.com%2Fus%2Fen%2Fsolutions%2Flarge-enterprise%2Fthinkshield&amp;esheet=52406932&amp;newsitemid=20210406005311&amp;lan=en-US&amp;anchor=Lenovo+ThinkShield&amp;index=2&amp;md5=4fa9df5deaae2efcdc88fa8a12f6a800\" rel=\"nofollow\" shape=\"rect\">Lenovo ThinkShield</a></b> is a comprehensive approach to enhancing security in all products from end-to-end, including supply chain and manufacturing processes. This enables customers to be confident that they have a strong security foundation. As part of the solutions announced today, Lenovo enhances ThinkShield security capabilities including: </p>,\n",
       "  <p> Customers can also count on innovation in intelligent systems management with Lenovo xClarity and Lenovo Intelligent Computing Orchestration (LiCO), to enable organizations to easily administer IT infrastructure from anywhere in the world. All of Lenovo’s infrastructure solutions are supported by Lenovo TruScale Infrastructure Services delivering as-a-service economics with cloud-like flexibility. </p>,\n",
       "  <p data-async=\"\"> Learn more about Lenovo’s <a data-evt=\"click\" data-evt-typ=\"User Interaction Click\" data-evt-val='{\"control_fields\": {\"mparticle\": {\"keys\": {\"Click Source Type\": \"Click Source Type\", \"Click Source Name\": \"Click Source Name\", \"Click Target URL\": \"Click Target URL\"}, \"mp_event_type\": \"Navigation\", \"extra_keys\": [\"Click Source Vertical Position %\", \"Click Source Vertical Position Pixels\"]}}, \"Click Source Type\": \"in-page link\", \"Click Source Name\": \"edge-to-cloud infrastructure\", \"Click Target URL\": \"https://cts.businesswire.com/ct/CT?id=smartlink&amp;url=https%3A%2F%2Fwww.lenovo.com%2Fus%2Fen%2Fdata-center%2Fsolutions%2Fc%2Fsolutions&amp;esheet=52406932&amp;newsitemid=20210406005311&amp;lan=en-US&amp;anchor=edge-to-cloud+infrastructure&amp;index=3&amp;md5=dbcd32adf9930ea66f498016d1aa97f1\"}' href=\"https://cts.businesswire.com/ct/CT?id=smartlink&amp;url=https%3A%2F%2Fwww.lenovo.com%2Fus%2Fen%2Fdata-center%2Fsolutions%2Fc%2Fsolutions&amp;esheet=52406932&amp;newsitemid=20210406005311&amp;lan=en-US&amp;anchor=edge-to-cloud+infrastructure&amp;index=3&amp;md5=dbcd32adf9930ea66f498016d1aa97f1\" rel=\"nofollow\" shape=\"rect\">edge-to-cloud infrastructure</a> portfolio. Lenovo offerings are available as-a-service through Lenovo <a href=\"https://cts.businesswire.com/ct/CT?id=smartlink&amp;url=https%3A%2F%2Fwww.lenovo.com%2Fus%2Fen%2Fdata-center%2Fservices%2Ftruscale-infrastructure-services&amp;esheet=52406932&amp;newsitemid=20210406005311&amp;lan=en-US&amp;anchor=TruScaleTM+Infrastructure+Services&amp;index=4&amp;md5=6c9112b4e346d7add8c839ac75d6db69\" rel=\"nofollow\" shape=\"rect\">TruScale<sup>TM</sup> Infrastructure Services</a> . </p>,\n",
       "  <p> LENOVO, THINKSYSTEM, THINKSHIELD, THINKAGILE, LENOVO TRUSCALE and XCLARITY are trademarks of Lenovo. Intel and Xeon are trademarks of Intel Corporation or its subsidiaries. NVIDIA is a trademark of NVIDIA Corporation. All other trademarks are the property of their respective owners. ©2021, Lenovo Group Limited. </p>,\n",
       "  <p> Intel, the Intel logo, and other Intel marks are trademarks of Intel Corporation or its subsidiaries. </p>,\n",
       "  <p><b>About Lenovo</b></p>],\n",
       " [<p data-async=\"\"> Lenovo (HKSE: 992) (ADR: LNVGY) is a US$50 billion Fortune Global 500 company, with 63,000 employees and operating in 180 markets around the world. Focused on a bold vision to deliver smarter technology for all, we are developing world-changing technologies that create a more inclusive, trustworthy, and sustainable digital society. By designing, engineering and building the world’s most complete portfolio of smart devices and infrastructure, we are also leading an Intelligent Transformation – to create better experiences and opportunities for millions of customers around the world. To find out more visit <a data-evt=\"click\" data-evt-typ=\"User Interaction Click\" data-evt-val='{\"control_fields\": {\"mparticle\": {\"keys\": {\"Click Source Type\": \"Click Source Type\", \"Click Source Name\": \"Click Source Name\", \"Click Target URL\": \"Click Target URL\"}, \"mp_event_type\": \"Navigation\", \"extra_keys\": [\"Click Source Vertical Position %\", \"Click Source Vertical Position Pixels\"]}}, \"Click Source Type\": \"in-page link\", \"Click Source Name\": \"https://www.lenovo.com\", \"Click Target URL\": \"https://cts.businesswire.com/ct/CT?id=smartlink&amp;url=https%3A%2F%2Fwww.lenovo.com%2F&amp;esheet=52406932&amp;newsitemid=20210406005311&amp;lan=en-US&amp;anchor=https%3A%2F%2Fwww.lenovo.com&amp;index=5&amp;md5=c0a103b8de6e35f5cd3769da3f7ebf0f\"}' href=\"https://cts.businesswire.com/ct/CT?id=smartlink&amp;url=https%3A%2F%2Fwww.lenovo.com%2F&amp;esheet=52406932&amp;newsitemid=20210406005311&amp;lan=en-US&amp;anchor=https%3A%2F%2Fwww.lenovo.com&amp;index=5&amp;md5=c0a103b8de6e35f5cd3769da3f7ebf0f\" rel=\"nofollow\" shape=\"rect\">https://www.lenovo.com</a> , follow us on <a data-evt=\"click\" data-evt-typ=\"User Interaction Click\" data-evt-val='{\"control_fields\": {\"mparticle\": {\"keys\": {\"Click Source Type\": \"Click Source Type\", \"Click Source Name\": \"Click Source Name\", \"Click Target URL\": \"Click Target URL\"}, \"mp_event_type\": \"Navigation\", \"extra_keys\": [\"Click Source Vertical Position %\", \"Click Source Vertical Position Pixels\"]}}, \"Click Source Type\": \"in-page link\", \"Click Source Name\": \"LinkedIn\", \"Click Target URL\": \"https://cts.businesswire.com/ct/CT?id=smartlink&amp;url=https%3A%2F%2Fna01.safelinks.protection.outlook.com%2F%3Furl%3Dhttps%3A%2F%2Fwww.linkedin.com%2Fcompany%2Flenovo%2F%3Ftr%26data%3D02%257c01%257cMark.Shadle%2540zenogroup.com%257c202839d303f04289eb1b08d5bbf9c6bd%257cb824bfb3918e43c2bb1cdcc1ba40a82b%257c0%257c0%257c636621603856599665%26sdata%3DODQUbiO91OLaooCPkjK3x880%252BALmd7wGA%2F10GfqeTkM%253D%26reserved%3D0&amp;esheet=52406932&amp;newsitemid=20210406005311&amp;lan=en-US&amp;anchor=LinkedIn&amp;index=6&amp;md5=a1e6399274102da55c620eefa72c6c58\"}' href=\"https://cts.businesswire.com/ct/CT?id=smartlink&amp;url=https%3A%2F%2Fna01.safelinks.protection.outlook.com%2F%3Furl%3Dhttps%3A%2F%2Fwww.linkedin.com%2Fcompany%2Flenovo%2F%3Ftr%26data%3D02%257c01%257cMark.Shadle%2540zenogroup.com%257c202839d303f04289eb1b08d5bbf9c6bd%257cb824bfb3918e43c2bb1cdcc1ba40a82b%257c0%257c0%257c636621603856599665%26sdata%3DODQUbiO91OLaooCPkjK3x880%252BALmd7wGA%2F10GfqeTkM%253D%26reserved%3D0&amp;esheet=52406932&amp;newsitemid=20210406005311&amp;lan=en-US&amp;anchor=LinkedIn&amp;index=6&amp;md5=a1e6399274102da55c620eefa72c6c58\" rel=\"nofollow\" shape=\"rect\">LinkedIn</a> , <a data-evt=\"click\" data-evt-typ=\"User Interaction Click\" data-evt-val='{\"control_fields\": {\"mparticle\": {\"keys\": {\"Click Source Type\": \"Click Source Type\", \"Click Source Name\": \"Click Source Name\", \"Click Target URL\": \"Click Target URL\"}, \"mp_event_type\": \"Navigation\", \"extra_keys\": [\"Click Source Vertical Position %\", \"Click Source Vertical Position Pixels\"]}}, \"Click Source Type\": \"in-page link\", \"Click Source Name\": \"Facebook\", \"Click Target URL\": \"https://cts.businesswire.com/ct/CT?id=smartlink&amp;url=https%3A%2F%2Fna01.safelinks.protection.outlook.com%2F%3Furl%3Dhttps%3A%2F%2Fwww.facebook.com%2Flenovo%2F%26data%3D02%257c01%257cMark.Shadle%2540zenogroup.com%257c202839d303f04289eb1b08d5bbf9c6bd%257cb824bfb3918e43c2bb1cdcc1ba40a82b%257c0%257c0%257c636621603856609670%26sdata%3DNQdborxe35%2FSdFigEEkQfHhumNDpGQp327K1z%2F6LK2I%253D%26reserved%3D0&amp;esheet=52406932&amp;newsitemid=20210406005311&amp;lan=en-US&amp;anchor=Facebook&amp;index=7&amp;md5=cdf08b004b1fe24383c22e4408756719\"}' href=\"https://cts.businesswire.com/ct/CT?id=smartlink&amp;url=https%3A%2F%2Fna01.safelinks.protection.outlook.com%2F%3Furl%3Dhttps%3A%2F%2Fwww.facebook.com%2Flenovo%2F%26data%3D02%257c01%257cMark.Shadle%2540zenogroup.com%257c202839d303f04289eb1b08d5bbf9c6bd%257cb824bfb3918e43c2bb1cdcc1ba40a82b%257c0%257c0%257c636621603856609670%26sdata%3DNQdborxe35%2FSdFigEEkQfHhumNDpGQp327K1z%2F6LK2I%253D%26reserved%3D0&amp;esheet=52406932&amp;newsitemid=20210406005311&amp;lan=en-US&amp;anchor=Facebook&amp;index=7&amp;md5=cdf08b004b1fe24383c22e4408756719\" rel=\"nofollow\" shape=\"rect\">Facebook</a> , <a data-evt=\"click\" data-evt-typ=\"User Interaction Click\" data-evt-val='{\"control_fields\": {\"mparticle\": {\"keys\": {\"Click Source Type\": \"Click Source Type\", \"Click Source Name\": \"Click Source Name\", \"Click Target URL\": \"Click Target URL\"}, \"mp_event_type\": \"Navigation\", \"extra_keys\": [\"Click Source Vertical Position %\", \"Click Source Vertical Position Pixels\"]}}, \"Click Source Type\": \"in-page link\", \"Click Source Name\": \"Twitter\", \"Click Target URL\": \"https://cts.businesswire.com/ct/CT?id=smartlink&amp;url=https%3A%2F%2Fna01.safelinks.protection.outlook.com%2F%3Furl%3Dhttps%3A%2F%2Ftwitter.com%2Flenovo%26data%3D02%257c01%257cMark.Shadle%2540zenogroup.com%257c202839d303f04289eb1b08d5bbf9c6bd%257cb824bfb3918e43c2bb1cdcc1ba40a82b%257c0%257c0%257c636621603856619680%26sdata%3DxhM%252BmgKMDufFy%252BzSaAG3vBZig4BAZtbJfYVfK0%252BR3xg%253D%26reserved%3D0&amp;esheet=52406932&amp;newsitemid=20210406005311&amp;lan=en-US&amp;anchor=Twitter&amp;index=8&amp;md5=999cba2d1423df221b91925ed73dcf78\"}' href=\"https://cts.businesswire.com/ct/CT?id=smartlink&amp;url=https%3A%2F%2Fna01.safelinks.protection.outlook.com%2F%3Furl%3Dhttps%3A%2F%2Ftwitter.com%2Flenovo%26data%3D02%257c01%257cMark.Shadle%2540zenogroup.com%257c202839d303f04289eb1b08d5bbf9c6bd%257cb824bfb3918e43c2bb1cdcc1ba40a82b%257c0%257c0%257c636621603856619680%26sdata%3DxhM%252BmgKMDufFy%252BzSaAG3vBZig4BAZtbJfYVfK0%252BR3xg%253D%26reserved%3D0&amp;esheet=52406932&amp;newsitemid=20210406005311&amp;lan=en-US&amp;anchor=Twitter&amp;index=8&amp;md5=999cba2d1423df221b91925ed73dcf78\" rel=\"nofollow\" shape=\"rect\">Twitter</a> , <a data-evt=\"click\" data-evt-typ=\"User Interaction Click\" data-evt-val='{\"control_fields\": {\"mparticle\": {\"keys\": {\"Click Source Type\": \"Click Source Type\", \"Click Source Name\": \"Click Source Name\", \"Click Target URL\": \"Click Target URL\"}, \"mp_event_type\": \"Navigation\", \"extra_keys\": [\"Click Source Vertical Position %\", \"Click Source Vertical Position Pixels\"]}}, \"Click Source Type\": \"in-page link\", \"Click Source Name\": \"YouTube\", \"Click Target URL\": \"https://cts.businesswire.com/ct/CT?id=smartlink&amp;url=https%3A%2F%2Fwww.youtube.com%2Flenovo&amp;esheet=52406932&amp;newsitemid=20210406005311&amp;lan=en-US&amp;anchor=YouTube&amp;index=9&amp;md5=376e3efa354e67e027017eca66d73702\"}' href=\"https://cts.businesswire.com/ct/CT?id=smartlink&amp;url=https%3A%2F%2Fwww.youtube.com%2Flenovo&amp;esheet=52406932&amp;newsitemid=20210406005311&amp;lan=en-US&amp;anchor=YouTube&amp;index=9&amp;md5=376e3efa354e67e027017eca66d73702\" rel=\"nofollow\" shape=\"rect\">YouTube</a> , <a data-evt=\"click\" data-evt-typ=\"User Interaction Click\" data-evt-val='{\"control_fields\": {\"mparticle\": {\"keys\": {\"Click Source Type\": \"Click Source Type\", \"Click Source Name\": \"Click Source Name\", \"Click Target URL\": \"Click Target URL\"}, \"mp_event_type\": \"Navigation\", \"extra_keys\": [\"Click Source Vertical Position %\", \"Click Source Vertical Position Pixels\"]}}, \"Click Source Type\": \"in-page link\", \"Click Source Name\": \"Instagram\", \"Click Target URL\": \"https://cts.businesswire.com/ct/CT?id=smartlink&amp;url=https%3A%2F%2Fna01.safelinks.protection.outlook.com%2F%3Furl%3Dhttps%3A%2F%2Fwww.instagram.com%2Flenovo%2F%3Fhl%253Den%26data%3D02%257c01%257cMark.Shadle%2540zenogroup.com%257c202839d303f04289eb1b08d5bbf9c6bd%257cb824bfb3918e43c2bb1cdcc1ba40a82b%257c0%257c0%257c636621603856619680%26sdata%3DIc7Cc5F8zGRT0q3kXRH%252BKm3dTjFi5NcQ6iwFbNkYbbk%253D%26reserved%3D0&amp;esheet=52406932&amp;newsitemid=20210406005311&amp;lan=en-US&amp;anchor=Instagram&amp;index=10&amp;md5=e030845f7b5ce60aeeb6575944828421\"}' href=\"https://cts.businesswire.com/ct/CT?id=smartlink&amp;url=https%3A%2F%2Fna01.safelinks.protection.outlook.com%2F%3Furl%3Dhttps%3A%2F%2Fwww.instagram.com%2Flenovo%2F%3Fhl%253Den%26data%3D02%257c01%257cMark.Shadle%2540zenogroup.com%257c202839d303f04289eb1b08d5bbf9c6bd%257cb824bfb3918e43c2bb1cdcc1ba40a82b%257c0%257c0%257c636621603856619680%26sdata%3DIc7Cc5F8zGRT0q3kXRH%252BKm3dTjFi5NcQ6iwFbNkYbbk%253D%26reserved%3D0&amp;esheet=52406932&amp;newsitemid=20210406005311&amp;lan=en-US&amp;anchor=Instagram&amp;index=10&amp;md5=e030845f7b5ce60aeeb6575944828421\" rel=\"nofollow\" shape=\"rect\">Instagram</a> , <a data-evt=\"click\" data-evt-typ=\"User Interaction Click\" data-evt-val='{\"control_fields\": {\"mparticle\": {\"keys\": {\"Click Source Type\": \"Click Source Type\", \"Click Source Name\": \"Click Source Name\", \"Click Target URL\": \"Click Target URL\"}, \"mp_event_type\": \"Navigation\", \"extra_keys\": [\"Click Source Vertical Position %\", \"Click Source Vertical Position Pixels\"]}}, \"Click Source Type\": \"in-page link\", \"Click Source Name\": \"Weibo\", \"Click Target URL\": \"https://cts.businesswire.com/ct/CT?id=smartlink&amp;url=https%3A%2F%2Fna01.safelinks.protection.outlook.com%2F%3Furl%3Dhttps%3A%2F%2Fweibo.com%2Flenovo%26data%3D02%257c01%257cMark.Shadle%2540zenogroup.com%257c202839d303f04289eb1b08d5bbf9c6bd%257cb824bfb3918e43c2bb1cdcc1ba40a82b%257c0%257c0%257c636621603856629685%26sdata%3DeNS%252B%252BjLElg2XJ9fqH0ruQoOLosjuhfEwsT3EP1moJS8%253D%26reserved%3D0&amp;esheet=52406932&amp;newsitemid=20210406005311&amp;lan=en-US&amp;anchor=Weibo&amp;index=11&amp;md5=111be2d8356950ec8f8fa6d8505e75ad\"}' href=\"https://cts.businesswire.com/ct/CT?id=smartlink&amp;url=https%3A%2F%2Fna01.safelinks.protection.outlook.com%2F%3Furl%3Dhttps%3A%2F%2Fweibo.com%2Flenovo%26data%3D02%257c01%257cMark.Shadle%2540zenogroup.com%257c202839d303f04289eb1b08d5bbf9c6bd%257cb824bfb3918e43c2bb1cdcc1ba40a82b%257c0%257c0%257c636621603856629685%26sdata%3DeNS%252B%252BjLElg2XJ9fqH0ruQoOLosjuhfEwsT3EP1moJS8%253D%26reserved%3D0&amp;esheet=52406932&amp;newsitemid=20210406005311&amp;lan=en-US&amp;anchor=Weibo&amp;index=11&amp;md5=111be2d8356950ec8f8fa6d8505e75ad\" rel=\"nofollow\" shape=\"rect\">Weibo</a> and read about the latest news via <a data-evt=\"click\" data-evt-typ=\"User Interaction Click\" data-evt-val='{\"control_fields\": {\"mparticle\": {\"keys\": {\"Click Source Type\": \"Click Source Type\", \"Click Source Name\": \"Click Source Name\", \"Click Target URL\": \"Click Target URL\"}, \"mp_event_type\": \"Navigation\", \"extra_keys\": [\"Click Source Vertical Position %\", \"Click Source Vertical Position Pixels\"]}}, \"Click Source Type\": \"in-page link\", \"Click Source Name\": \"StoryHub\", \"Click Target URL\": \"https://cts.businesswire.com/ct/CT?id=smartlink&amp;url=http%3A%2F%2Fstoryhub.lenovo.com%2F&amp;esheet=52406932&amp;newsitemid=20210406005311&amp;lan=en-US&amp;anchor=StoryHub&amp;index=12&amp;md5=0ea465d91ff7b06ba22fab0d9d0a48fd\"}' href=\"https://cts.businesswire.com/ct/CT?id=smartlink&amp;url=http%3A%2F%2Fstoryhub.lenovo.com%2F&amp;esheet=52406932&amp;newsitemid=20210406005311&amp;lan=en-US&amp;anchor=StoryHub&amp;index=12&amp;md5=0ea465d91ff7b06ba22fab0d9d0a48fd\" rel=\"nofollow\" shape=\"rect\">StoryHub</a> . </p>,\n",
       "  <p><sup>1</sup> <i> Doubles its bandwidth over PCIe3, increasing the per-lane bandwidth to 2 gigabytes per second (2GBps) <br/></i> <sup>2</sup> <i> Based on internal research by Lenovo – 90% heat removal via water. Jan-Mar 2021 <br/></i> <sup>3</sup> <i>Avg Rmax Perf per node ~ 50TF * 36 Nodes (1 rack) = 1.8PF &gt;1.79PF in position 297 on the Nov 2020 TOP500 list <br/></i> <sup>4</sup> <i>Intel: 8360Y CPU has 36 Cores with FP results of 419 vs. Intel: 8280 CPU has 28 cores with FP results of 270 8 = 1.55x PF performance improvement</i></p>,\n",
       "  <p><span></span></p>,\n",
       "  <p><span class=\"bwct31415\"></span></p>,\n",
       "  <p data-async=\"\"><span id=\"mmgallerylink-phrase\">View source version on businesswire.com: </span> <span id=\"mmgallerylink-link\"> <a data-evt=\"click\" data-evt-typ=\"User Interaction Click\" data-evt-val='{\"control_fields\": {\"mparticle\": {\"keys\": {\"Click Source Type\": \"Click Source Type\", \"Click Source Name\": \"Click Source Name\", \"Click Target URL\": \"Click Target URL\"}, \"mp_event_type\": \"Navigation\", \"extra_keys\": [\"Click Source Vertical Position %\", \"Click Source Vertical Position Pixels\"]}}, \"Click Source Type\": \"in-page link\", \"Click Source Name\": \"https://www.businesswire.com/news/home/20210406005311/en/\", \"Click Target URL\": \"https://www.businesswire.com/news/home/20210406005311/en/\"}' href=\"https://www.businesswire.com/news/home/20210406005311/en/\" rel=\"nofollow\">https://www.businesswire.com/news/home/20210406005311/en/</a></span></p>,\n",
       "  <p><b>Contacts</b></p>,\n",
       "  <p data-async=\"\"><b>Worldwide </b> <br/> Zeno Group, <a data-evt=\"click\" data-evt-typ=\"User Interaction Click\" data-evt-val='{\"control_fields\": {\"mparticle\": {\"keys\": {\"Click Source Type\": \"Click Source Type\", \"Click Source Name\": \"Click Source Name\"}, \"mp_event_type\": \"Navigation\", \"extra_keys\": [\"Click Source Vertical Position %\", \"Click Source Vertical Position Pixels\"]}}, \"Click Source Type\": \"in-page link\", \"Click Source Name\": \"lenovowwdcg@zenogroup.com \"}' href=\"mailto:lenovowwdcg@zenogroup.com\" rel=\"nofollow\" shape=\"rect\">lenovowwdcg@zenogroup.com </a> <br/> Ashley Kusowski, <a data-evt=\"click\" data-evt-typ=\"User Interaction Click\" data-evt-val='{\"control_fields\": {\"mparticle\": {\"keys\": {\"Click Source Type\": \"Click Source Type\", \"Click Source Name\": \"Click Source Name\"}, \"mp_event_type\": \"Navigation\", \"extra_keys\": [\"Click Source Vertical Position %\", \"Click Source Vertical Position Pixels\"]}}, \"Click Source Type\": \"in-page link\", \"Click Source Name\": \"akusowski@lenovo.com\"}' href=\"mailto:akusowski@lenovo.com\" rel=\"nofollow\" shape=\"rect\">akusowski@lenovo.com</a> , +1 919-339-2819 </p>,\n",
       "  <p data-async=\"\"><b>EMEA </b> <br/> Caroline De Souza, <a data-evt=\"click\" data-evt-typ=\"User Interaction Click\" data-evt-val='{\"control_fields\": {\"mparticle\": {\"keys\": {\"Click Source Type\": \"Click Source Type\", \"Click Source Name\": \"Click Source Name\"}, \"mp_event_type\": \"Navigation\", \"extra_keys\": [\"Click Source Vertical Position %\", \"Click Source Vertical Position Pixels\"]}}, \"Click Source Type\": \"in-page link\", \"Click Source Name\": \"csouza5@lenovo.com\"}' href=\"mailto:csouza5@lenovo.com\" rel=\"nofollow\" shape=\"rect\">csouza5@lenovo.com</a> , +44 (0)7768 080028 </p>,\n",
       "  <p data-async=\"\"><b>APAC </b> <br/> Shonali Chakravarty, <a data-evt=\"click\" data-evt-typ=\"User Interaction Click\" data-evt-val='{\"control_fields\": {\"mparticle\": {\"keys\": {\"Click Source Type\": \"Click Source Type\", \"Click Source Name\": \"Click Source Name\"}, \"mp_event_type\": \"Navigation\", \"extra_keys\": [\"Click Source Vertical Position %\", \"Click Source Vertical Position Pixels\"]}}, \"Click Source Type\": \"in-page link\", \"Click Source Name\": \"schakravarty@lenovo.com\"}' href=\"mailto:schakravarty@lenovo.com\" rel=\"nofollow\" shape=\"rect\">schakravarty@lenovo.com</a> , +91 9833059832 </p>,\n",
       "  <p data-async=\"\"><b>LATAM </b> <br/> Valkiria Suzuki, <a data-evt=\"click\" data-evt-typ=\"User Interaction Click\" data-evt-val='{\"control_fields\": {\"mparticle\": {\"keys\": {\"Click Source Type\": \"Click Source Type\", \"Click Source Name\": \"Click Source Name\"}, \"mp_event_type\": \"Navigation\", \"extra_keys\": [\"Click Source Vertical Position %\", \"Click Source Vertical Position Pixels\"]}}, \"Click Source Type\": \"in-page link\", \"Click Source Name\": \"vsuzuki@lenovo.com\"}' href=\"mailto:vsuzuki@lenovo.com\" rel=\"nofollow\" shape=\"rect\">vsuzuki@lenovo.com</a> , +5511996563108 </p>,\n",
       "  <p data-async=\"\"><b>PRC </b> <br/> Na Na Luo, <a data-evt=\"click\" data-evt-typ=\"User Interaction Click\" data-evt-val='{\"control_fields\": {\"mparticle\": {\"keys\": {\"Click Source Type\": \"Click Source Type\", \"Click Source Name\": \"Click Source Name\"}, \"mp_event_type\": \"Navigation\", \"extra_keys\": [\"Click Source Vertical Position %\", \"Click Source Vertical Position Pixels\"]}}, \"Click Source Type\": \"in-page link\", \"Click Source Name\": \"luona3@lenovo.com\"}' href=\"mailto:luona3@lenovo.com\" rel=\"nofollow\" shape=\"rect\">luona3@lenovo.com</a> , +18519553701 </p>,\n",
       "  <p><i style=\"display:none;\">#distro</i></p>]]"
      ]
     },
     "execution_count": 20,
     "metadata": {},
     "output_type": "execute_result"
    }
   ],
   "source": [
    "res"
   ]
  },
  {
   "cell_type": "code",
   "execution_count": 21,
   "metadata": {},
   "outputs": [
    {
     "data": {
      "text/plain": [
       "'The parking guidance system solution is developed in collaboration with IntelBENGALURU, India — L&T Technology Services Limited (BSE: 540115, NSE: LTTS), a leading global engineering services company, announced today that it worked with Intel Corporation to develop an outdoor smart parking solution. The solution is powered by the Intel distribution of the OpenVINO Toolkit to run AI inferencing models on Intel Xeon scalable processors and Intel Movidius VPUs. With edge AI capabilities, the solution aims to redefine the outdoor smart parking experience in public areas across the globe. '"
      ]
     },
     "execution_count": 21,
     "metadata": {},
     "output_type": "execute_result"
    }
   ],
   "source": [
    "df['internals_text'][0]"
   ]
  },
  {
   "cell_type": "code",
   "execution_count": null,
   "metadata": {},
   "outputs": [],
   "source": []
  }
 ],
 "metadata": {
  "kernelspec": {
   "display_name": "Python 3",
   "language": "python",
   "name": "python3"
  },
  "language_info": {
   "codemirror_mode": {
    "name": "ipython",
    "version": 3
   },
   "file_extension": ".py",
   "mimetype": "text/x-python",
   "name": "python",
   "nbconvert_exporter": "python",
   "pygments_lexer": "ipython3",
   "version": "3.8.8"
  },
  "latex_envs": {
   "LaTeX_envs_menu_present": true,
   "autoclose": false,
   "autocomplete": true,
   "bibliofile": "biblio.bib",
   "cite_by": "apalike",
   "current_citInitial": 1,
   "eqLabelWithNumbers": true,
   "eqNumInitial": 1,
   "hotkeys": {
    "equation": "Ctrl-E",
    "itemize": "Ctrl-I"
   },
   "labels_anchors": false,
   "latex_user_defs": false,
   "report_style_numbering": false,
   "user_envs_cfg": false
  },
  "toc": {
   "base_numbering": 1,
   "nav_menu": {},
   "number_sections": true,
   "sideBar": true,
   "skip_h1_title": false,
   "title_cell": "Table of Contents",
   "title_sidebar": "Contents",
   "toc_cell": false,
   "toc_position": {},
   "toc_section_display": true,
   "toc_window_display": false
  },
  "varInspector": {
   "cols": {
    "lenName": 16,
    "lenType": 16,
    "lenVar": 40
   },
   "kernels_config": {
    "python": {
     "delete_cmd_postfix": "",
     "delete_cmd_prefix": "del ",
     "library": "var_list.py",
     "varRefreshCmd": "print(var_dic_list())"
    },
    "r": {
     "delete_cmd_postfix": ") ",
     "delete_cmd_prefix": "rm(",
     "library": "var_list.r",
     "varRefreshCmd": "cat(var_dic_list()) "
    }
   },
   "types_to_exclude": [
    "module",
    "function",
    "builtin_function_or_method",
    "instance",
    "_Feature"
   ],
   "window_display": false
  }
 },
 "nbformat": 4,
 "nbformat_minor": 2
}
